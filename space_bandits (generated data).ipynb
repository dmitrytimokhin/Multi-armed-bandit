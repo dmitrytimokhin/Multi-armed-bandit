{
 "cells": [
  {
   "cell_type": "markdown",
   "metadata": {},
   "source": [
    "# Space Bandits Model as a Classifier"
   ]
  },
  {
   "cell_type": "code",
   "execution_count": 1,
   "metadata": {},
   "outputs": [
    {
     "name": "stderr",
     "output_type": "stream",
     "text": [
      "/opt/anaconda3/envs/work/lib/python3.7/site-packages/tqdm/auto.py:21: TqdmWarning: IProgress not found. Please update jupyter and ipywidgets. See https://ipywidgets.readthedocs.io/en/stable/user_install.html\n",
      "  from .autonotebook import tqdm as notebook_tqdm\n"
     ]
    }
   ],
   "source": [
    "import numpy as np\n",
    "import pandas as pd\n",
    "from random import random, randint\n",
    "import matplotlib.pyplot as plt\n",
    "import gc\n",
    "%config InlineBackend.figure_format='retina'\n",
    "\n",
    "from space_bandits.toy_problem import generate_dataframe"
   ]
  },
  {
   "cell_type": "code",
   "execution_count": 2,
   "metadata": {},
   "outputs": [
    {
     "name": "stdout",
     "output_type": "stream",
     "text": [
      "(20000, 4)\n"
     ]
    },
    {
     "data": {
      "text/html": [
       "<div>\n",
       "<style scoped>\n",
       "    .dataframe tbody tr th:only-of-type {\n",
       "        vertical-align: middle;\n",
       "    }\n",
       "\n",
       "    .dataframe tbody tr th {\n",
       "        vertical-align: top;\n",
       "    }\n",
       "\n",
       "    .dataframe thead th {\n",
       "        text-align: right;\n",
       "    }\n",
       "</style>\n",
       "<table border=\"1\" class=\"dataframe\">\n",
       "  <thead>\n",
       "    <tr style=\"text-align: right;\">\n",
       "      <th></th>\n",
       "      <th>age</th>\n",
       "      <th>ARPU</th>\n",
       "      <th>action</th>\n",
       "      <th>reward</th>\n",
       "    </tr>\n",
       "  </thead>\n",
       "  <tbody>\n",
       "    <tr>\n",
       "      <th>0</th>\n",
       "      <td>47.0</td>\n",
       "      <td>93.984068</td>\n",
       "      <td>0</td>\n",
       "      <td>0</td>\n",
       "    </tr>\n",
       "    <tr>\n",
       "      <th>1</th>\n",
       "      <td>30.0</td>\n",
       "      <td>80.574450</td>\n",
       "      <td>0</td>\n",
       "      <td>10</td>\n",
       "    </tr>\n",
       "    <tr>\n",
       "      <th>2</th>\n",
       "      <td>48.0</td>\n",
       "      <td>23.344709</td>\n",
       "      <td>2</td>\n",
       "      <td>0</td>\n",
       "    </tr>\n",
       "    <tr>\n",
       "      <th>3</th>\n",
       "      <td>29.0</td>\n",
       "      <td>100.416298</td>\n",
       "      <td>0</td>\n",
       "      <td>10</td>\n",
       "    </tr>\n",
       "    <tr>\n",
       "      <th>4</th>\n",
       "      <td>51.0</td>\n",
       "      <td>41.958373</td>\n",
       "      <td>0</td>\n",
       "      <td>0</td>\n",
       "    </tr>\n",
       "  </tbody>\n",
       "</table>\n",
       "</div>"
      ],
      "text/plain": [
       "    age        ARPU  action  reward\n",
       "0  47.0   93.984068       0       0\n",
       "1  30.0   80.574450       0      10\n",
       "2  48.0   23.344709       2       0\n",
       "3  29.0  100.416298       0      10\n",
       "4  51.0   41.958373       0       0"
      ]
     },
     "execution_count": 2,
     "metadata": {},
     "output_type": "execute_result"
    }
   ],
   "source": [
    "# Генерация выборки\n",
    "\n",
    "df = generate_dataframe(20_000)\n",
    "print(df.shape)\n",
    "df.head()"
   ]
  },
  {
   "cell_type": "code",
   "execution_count": 3,
   "metadata": {},
   "outputs": [
    {
     "data": {
      "text/plain": [
       "action    3\n",
       "reward    4\n",
       "dtype: int64"
      ]
     },
     "execution_count": 3,
     "metadata": {},
     "output_type": "execute_result"
    }
   ],
   "source": [
    "df[['action','reward']].nunique()"
   ]
  },
  {
   "cell_type": "markdown",
   "metadata": {},
   "source": [
    "Мы создаем набор данных со случайно выбранными действиями и 4000 строк.\n",
    "## Разделение обучения/проверки\n",
    "Мы разделяем данные на две группы одинакового размера."
   ]
  },
  {
   "cell_type": "code",
   "execution_count": 4,
   "metadata": {},
   "outputs": [],
   "source": [
    "train = df.sample(frac=.5).copy()\n",
    "val = df[~df.index.isin(train.index)].copy()\n",
    "num_actions = len(train.action.unique())"
   ]
  },
  {
   "cell_type": "markdown",
   "metadata": {},
   "source": [
    "## Метрика проверки\n",
    "Мы будем использовать оценку ROC AUC в качестве метрики проверки. Мы обучим простой бинарный классификатор, модель логистической регрессии, чтобы «конкурировать» с нашей моделью бандитов. Эта модель просто предсказывает конвертацию/неконвертацию."
   ]
  },
  {
   "cell_type": "code",
   "execution_count": 5,
   "metadata": {},
   "outputs": [],
   "source": [
    "from sklearn.metrics import roc_auc_score\n",
    "from sklearn.linear_model import LogisticRegression"
   ]
  },
  {
   "cell_type": "code",
   "execution_count": 6,
   "metadata": {},
   "outputs": [],
   "source": [
    "train_fts = train[['age', 'ARPU']]\n",
    "\n",
    "#give actions as features\n",
    "campaign_fts = pd.get_dummies(train.action)\n",
    "campaign_fts.index = train_fts.index\n",
    "X_train = pd.concat([train_fts, campaign_fts], axis=1)\n",
    "\n",
    "#Get labels: we are predicting conversion, so 1 if reward != 0\n",
    "train['target'] = np.where(train.reward > 0, 1, 0)\n",
    "y_train = train.target\n",
    "\n",
    "#prepare X_val for later\n",
    "val_fts = val[['age', 'ARPU']]\n",
    "campaign_fts_val = pd.get_dummies(val.action)\n",
    "campaign_fts_val.index = val_fts.index\n",
    "X_val = pd.concat([val_fts, campaign_fts_val], axis=1)\n",
    "#get validation labels as well\n",
    "val['target'] = np.where(val.reward > 0, 1, 0)\n",
    "y_val = val.target"
   ]
  },
  {
   "cell_type": "code",
   "execution_count": 7,
   "metadata": {},
   "outputs": [
    {
     "name": "stdout",
     "output_type": "stream",
     "text": [
      "Logistic regression auc score:  0.795\n"
     ]
    },
    {
     "name": "stderr",
     "output_type": "stream",
     "text": [
      "/opt/anaconda3/envs/work/lib/python3.7/site-packages/sklearn/utils/validation.py:1692: FutureWarning: Feature names only support names that are all strings. Got feature names with dtypes: ['int', 'str']. An error will be raised in 1.2.\n",
      "  FutureWarning,\n",
      "/opt/anaconda3/envs/work/lib/python3.7/site-packages/sklearn/utils/validation.py:1692: FutureWarning: Feature names only support names that are all strings. Got feature names with dtypes: ['int', 'str']. An error will be raised in 1.2.\n",
      "  FutureWarning,\n"
     ]
    }
   ],
   "source": [
    "classifier = LogisticRegression()\n",
    "classifier.fit(X_train, y_train)\n",
    "pred = classifier.predict_proba(X_val)[:, 1]\n",
    "\n",
    "classifier_auc_score = roc_auc_score(y_val, pred)\n",
    "print('Logistic regression auc score: ', round(classifier_auc_score, 3))"
   ]
  },
  {
   "cell_type": "markdown",
   "metadata": {},
   "source": [
    "## Bandits Model\n",
    "Мы подгоняем модель бандитов под те же данные."
   ]
  },
  {
   "cell_type": "code",
   "execution_count": 8,
   "metadata": {},
   "outputs": [],
   "source": [
    "from space_bandits import LinearBandits, NeuralBandits\n",
    "\n",
    "model_linear = LinearBandits(num_actions=num_actions, num_features=2, initial_pulls=100)\n",
    "model_neural = NeuralBandits(num_actions=num_actions, num_features=2, layer_sizes=[50,12])"
   ]
  },
  {
   "cell_type": "code",
   "execution_count": 9,
   "metadata": {},
   "outputs": [],
   "source": [
    "model_linear.fit(contexts=train[['age', 'ARPU']], actions=train['action'], rewards=train['reward'])"
   ]
  },
  {
   "cell_type": "code",
   "execution_count": 10,
   "metadata": {},
   "outputs": [
    {
     "name": "stdout",
     "output_type": "stream",
     "text": [
      "Training neural_model-bnn for 100 steps...\n"
     ]
    }
   ],
   "source": [
    "model_neural.fit(contexts=train[['age', 'ARPU']], actions=train['action'], rewards=train['reward'])"
   ]
  },
  {
   "cell_type": "markdown",
   "metadata": {},
   "source": [
    "# Получите ожидаемые вознаграждения\n",
    "Мы собираем ожидаемые значения вознаграждений и добавляем их в фрейм данных проверки."
   ]
  },
  {
   "cell_type": "markdown",
   "metadata": {},
   "source": [
    "---\n",
    "### 1. LinearBandits"
   ]
  },
  {
   "cell_type": "code",
   "execution_count": 11,
   "metadata": {},
   "outputs": [
    {
     "data": {
      "text/html": [
       "<div>\n",
       "<style scoped>\n",
       "    .dataframe tbody tr th:only-of-type {\n",
       "        vertical-align: middle;\n",
       "    }\n",
       "\n",
       "    .dataframe tbody tr th {\n",
       "        vertical-align: top;\n",
       "    }\n",
       "\n",
       "    .dataframe thead th {\n",
       "        text-align: right;\n",
       "    }\n",
       "</style>\n",
       "<table border=\"1\" class=\"dataframe\">\n",
       "  <thead>\n",
       "    <tr style=\"text-align: right;\">\n",
       "      <th></th>\n",
       "      <th>age</th>\n",
       "      <th>ARPU</th>\n",
       "      <th>action</th>\n",
       "      <th>reward</th>\n",
       "      <th>target</th>\n",
       "      <th>0</th>\n",
       "      <th>1</th>\n",
       "      <th>2</th>\n",
       "    </tr>\n",
       "  </thead>\n",
       "  <tbody>\n",
       "    <tr>\n",
       "      <th>0</th>\n",
       "      <td>47.0</td>\n",
       "      <td>93.984068</td>\n",
       "      <td>0</td>\n",
       "      <td>0</td>\n",
       "      <td>0</td>\n",
       "      <td>4.508121</td>\n",
       "      <td>2.380281</td>\n",
       "      <td>15.135053</td>\n",
       "    </tr>\n",
       "    <tr>\n",
       "      <th>1</th>\n",
       "      <td>30.0</td>\n",
       "      <td>80.574450</td>\n",
       "      <td>0</td>\n",
       "      <td>10</td>\n",
       "      <td>1</td>\n",
       "      <td>6.954370</td>\n",
       "      <td>2.456745</td>\n",
       "      <td>7.232880</td>\n",
       "    </tr>\n",
       "    <tr>\n",
       "      <th>2</th>\n",
       "      <td>48.0</td>\n",
       "      <td>23.344709</td>\n",
       "      <td>2</td>\n",
       "      <td>0</td>\n",
       "      <td>0</td>\n",
       "      <td>1.466874</td>\n",
       "      <td>2.061090</td>\n",
       "      <td>20.015796</td>\n",
       "    </tr>\n",
       "    <tr>\n",
       "      <th>4</th>\n",
       "      <td>51.0</td>\n",
       "      <td>41.958373</td>\n",
       "      <td>0</td>\n",
       "      <td>0</td>\n",
       "      <td>0</td>\n",
       "      <td>1.694223</td>\n",
       "      <td>2.119178</td>\n",
       "      <td>20.405841</td>\n",
       "    </tr>\n",
       "    <tr>\n",
       "      <th>7</th>\n",
       "      <td>52.0</td>\n",
       "      <td>39.281862</td>\n",
       "      <td>1</td>\n",
       "      <td>0</td>\n",
       "      <td>0</td>\n",
       "      <td>1.409762</td>\n",
       "      <td>2.099413</td>\n",
       "      <td>21.084911</td>\n",
       "    </tr>\n",
       "  </tbody>\n",
       "</table>\n",
       "</div>"
      ],
      "text/plain": [
       "    age       ARPU  action  reward  target         0         1          2\n",
       "0  47.0  93.984068       0       0       0  4.508121  2.380281  15.135053\n",
       "1  30.0  80.574450       0      10       1  6.954370  2.456745   7.232880\n",
       "2  48.0  23.344709       2       0       0  1.466874  2.061090  20.015796\n",
       "4  51.0  41.958373       0       0       0  1.694223  2.119178  20.405841\n",
       "7  52.0  39.281862       1       0       0  1.409762  2.099413  21.084911"
      ]
     },
     "execution_count": 11,
     "metadata": {},
     "output_type": "execute_result"
    }
   ],
   "source": [
    "expected_values = model_linear.expected_values(val[['age', 'ARPU']].values)\n",
    "linear_pred = pd.DataFrame()\n",
    "for a, vals in enumerate(expected_values):\n",
    "    linear_pred[a] = vals\n",
    "#expected reward values\n",
    "linear_pred.index = val.index\n",
    "#add them to validation df\n",
    "linear_val = pd.concat([val, linear_pred], axis=1)\n",
    "linear_val.head()"
   ]
  },
  {
   "cell_type": "markdown",
   "metadata": {},
   "source": [
    "## Применение сигмоидальной функции\n",
    "Модель бандитов рассматривает каждую кампанию отдельно, поэтому мы должны применить сигмоидальную функцию к каждому столбцу вознаграждения независимо. Чтобы получить разумные значения, усредните и нормализуйте каждый ожидаемый столбец вознаграждения."
   ]
  },
  {
   "cell_type": "code",
   "execution_count": 12,
   "metadata": {},
   "outputs": [],
   "source": [
    "linear_val['pred'] = .5\n",
    "for a in range(num_actions):\n",
    "    #средний центр и нормализовать ожидаемые вознаграждения\n",
    "    linear_val['{}_centered'.format(a)] = (linear_val[a] - linear_val[a].mean())/linear_val[a].std()"
   ]
  },
  {
   "cell_type": "code",
   "execution_count": 13,
   "metadata": {},
   "outputs": [],
   "source": [
    "def sigmoid(x):\n",
    "    return 1 / (1 + np.exp(-x))\n",
    "\n",
    "# Применить сигмоиду, чтобы получить p_pred\n",
    "for a in range(num_actions):\n",
    "    #получить строки для этого действия\n",
    "    slc = linear_val[linear_val.action==a]\n",
    "    #передавать значения через сигмоиду\n",
    "    vals = sigmoid(slc['{}_centered'.format(a)].values)\n",
    "    #назначить вывод соответствующим строкам\n",
    "    inds = slc.index\n",
    "    linear_val.loc[inds, 'pred'] = vals"
   ]
  },
  {
   "cell_type": "code",
   "execution_count": 14,
   "metadata": {},
   "outputs": [
    {
     "name": "stdout",
     "output_type": "stream",
     "text": [
      "Оценка LinearBandits roc_auc:  0.677\n"
     ]
    }
   ],
   "source": [
    "linear_pred = linear_val.pred\n",
    "\n",
    "bandits_auc_score = roc_auc_score(y_val, linear_pred)\n",
    "print('Оценка LinearBandits roc_auc: ', round(bandits_auc_score, 3))"
   ]
  },
  {
   "cell_type": "markdown",
   "metadata": {},
   "source": [
    "---\n",
    "### 2. NeuralBandits"
   ]
  },
  {
   "cell_type": "code",
   "execution_count": 15,
   "metadata": {},
   "outputs": [
    {
     "data": {
      "text/html": [
       "<div>\n",
       "<style scoped>\n",
       "    .dataframe tbody tr th:only-of-type {\n",
       "        vertical-align: middle;\n",
       "    }\n",
       "\n",
       "    .dataframe tbody tr th {\n",
       "        vertical-align: top;\n",
       "    }\n",
       "\n",
       "    .dataframe thead th {\n",
       "        text-align: right;\n",
       "    }\n",
       "</style>\n",
       "<table border=\"1\" class=\"dataframe\">\n",
       "  <thead>\n",
       "    <tr style=\"text-align: right;\">\n",
       "      <th></th>\n",
       "      <th>age</th>\n",
       "      <th>ARPU</th>\n",
       "      <th>action</th>\n",
       "      <th>reward</th>\n",
       "      <th>target</th>\n",
       "      <th>0</th>\n",
       "      <th>1</th>\n",
       "      <th>2</th>\n",
       "    </tr>\n",
       "  </thead>\n",
       "  <tbody>\n",
       "    <tr>\n",
       "      <th>0</th>\n",
       "      <td>47.0</td>\n",
       "      <td>93.984068</td>\n",
       "      <td>0</td>\n",
       "      <td>0</td>\n",
       "      <td>0</td>\n",
       "      <td>286.898086</td>\n",
       "      <td>121.205307</td>\n",
       "      <td>136.015916</td>\n",
       "    </tr>\n",
       "    <tr>\n",
       "      <th>1</th>\n",
       "      <td>30.0</td>\n",
       "      <td>80.574450</td>\n",
       "      <td>0</td>\n",
       "      <td>10</td>\n",
       "      <td>1</td>\n",
       "      <td>249.128507</td>\n",
       "      <td>95.316615</td>\n",
       "      <td>72.837542</td>\n",
       "    </tr>\n",
       "    <tr>\n",
       "      <th>2</th>\n",
       "      <td>48.0</td>\n",
       "      <td>23.344709</td>\n",
       "      <td>2</td>\n",
       "      <td>0</td>\n",
       "      <td>0</td>\n",
       "      <td>43.655498</td>\n",
       "      <td>41.338383</td>\n",
       "      <td>339.825304</td>\n",
       "    </tr>\n",
       "    <tr>\n",
       "      <th>4</th>\n",
       "      <td>51.0</td>\n",
       "      <td>41.958373</td>\n",
       "      <td>0</td>\n",
       "      <td>0</td>\n",
       "      <td>0</td>\n",
       "      <td>48.150337</td>\n",
       "      <td>53.947067</td>\n",
       "      <td>439.361253</td>\n",
       "    </tr>\n",
       "    <tr>\n",
       "      <th>7</th>\n",
       "      <td>52.0</td>\n",
       "      <td>39.281862</td>\n",
       "      <td>1</td>\n",
       "      <td>0</td>\n",
       "      <td>0</td>\n",
       "      <td>48.652764</td>\n",
       "      <td>52.870418</td>\n",
       "      <td>431.239338</td>\n",
       "    </tr>\n",
       "  </tbody>\n",
       "</table>\n",
       "</div>"
      ],
      "text/plain": [
       "    age       ARPU  action  reward  target           0           1           2\n",
       "0  47.0  93.984068       0       0       0  286.898086  121.205307  136.015916\n",
       "1  30.0  80.574450       0      10       1  249.128507   95.316615   72.837542\n",
       "2  48.0  23.344709       2       0       0   43.655498   41.338383  339.825304\n",
       "4  51.0  41.958373       0       0       0   48.150337   53.947067  439.361253\n",
       "7  52.0  39.281862       1       0       0   48.652764   52.870418  431.239338"
      ]
     },
     "execution_count": 15,
     "metadata": {},
     "output_type": "execute_result"
    }
   ],
   "source": [
    "expected_values = model_neural.expected_values(val[['age', 'ARPU']].values)\n",
    "neural_pred = pd.DataFrame()\n",
    "for a, vals in enumerate(expected_values):\n",
    "    neural_pred[a] = vals\n",
    "#expected reward values\n",
    "neural_pred.index = val.index\n",
    "#add them to validation df\n",
    "neural_val = pd.concat([val, neural_pred], axis=1)\n",
    "neural_val.head()"
   ]
  },
  {
   "cell_type": "code",
   "execution_count": 16,
   "metadata": {},
   "outputs": [],
   "source": [
    "neural_val['pred'] = .5\n",
    "for a in range(num_actions):\n",
    "    #средний центр и нормализовать ожидаемые вознаграждения\n",
    "    neural_val['{}_centered'.format(a)] = (neural_val[a] - neural_val[a].mean())/neural_val[a].std()"
   ]
  },
  {
   "cell_type": "code",
   "execution_count": 17,
   "metadata": {},
   "outputs": [],
   "source": [
    "def sigmoid(x):\n",
    "    return 1 / (1 + np.exp(-x))\n",
    "\n",
    "# Применить сигмоиду, чтобы получить p_pred\n",
    "for a in range(num_actions):\n",
    "    #получить строки для этого действия\n",
    "    slc = neural_val[neural_val.action==a]\n",
    "    #передавать значения через сигмоиду\n",
    "    vals = sigmoid(slc['{}_centered'.format(a)].values)\n",
    "    #назначить вывод соответствующим строкам\n",
    "    inds = slc.index\n",
    "    neural_val.loc[inds, 'pred'] = vals"
   ]
  },
  {
   "cell_type": "code",
   "execution_count": 18,
   "metadata": {},
   "outputs": [
    {
     "name": "stdout",
     "output_type": "stream",
     "text": [
      "Оценка LinearBandits roc_auc:  0.669\n"
     ]
    }
   ],
   "source": [
    "neural_pred = neural_val.pred\n",
    "\n",
    "bandits_auc_score = roc_auc_score(y_val, neural_pred)\n",
    "print('Оценка LinearBandits roc_auc: ', round(bandits_auc_score, 3))"
   ]
  },
  {
   "cell_type": "markdown",
   "metadata": {},
   "source": [
    "## Результат\n",
    "Мы видим, что модель логистической регрессии работает лучше по этой метрике. Это не должно быть сюрпризом! У модели бандитов гораздо более сложная задача! Ей нужно выполнить регрессию для всех трех кампаний — модель логрег получает все преимущества надзора и имеет только один бинарный выход."
   ]
  },
  {
   "cell_type": "code",
   "execution_count": null,
   "metadata": {},
   "outputs": [],
   "source": []
  }
 ],
 "metadata": {
  "kernelspec": {
   "display_name": "Python 3 (ipykernel)",
   "language": "python",
   "name": "python3"
  },
  "language_info": {
   "codemirror_mode": {
    "name": "ipython",
    "version": 3
   },
   "file_extension": ".py",
   "mimetype": "text/x-python",
   "name": "python",
   "nbconvert_exporter": "python",
   "pygments_lexer": "ipython3",
   "version": "3.7.16"
  }
 },
 "nbformat": 4,
 "nbformat_minor": 4
}
