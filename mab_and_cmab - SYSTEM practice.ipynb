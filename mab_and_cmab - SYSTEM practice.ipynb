{
 "cells": [
  {
   "cell_type": "markdown",
   "metadata": {},
   "source": [
    "---\n",
    "# Система реализации"
   ]
  },
  {
   "cell_type": "code",
   "execution_count": 1,
   "metadata": {},
   "outputs": [],
   "source": [
    "from typing import List, Dict, NoReturn, Union\n",
    "import logging\n",
    "import pandas as pd\n",
    "import os\n",
    "import random\n",
    "import copy\n",
    "from sklearn.impute import SimpleImputer\n",
    "from sklearn.pipeline import Pipeline\n",
    "from sklearn.compose import ColumnTransformer\n",
    "from sklearn.base import BaseEstimator, TransformerMixin\n",
    "from sklearn.preprocessing import StandardScaler\n",
    "from sklearn.model_selection import train_test_split\n",
    "from sklearn.metrics import classification_report, confusion_matrix, ConfusionMatrixDisplay\n",
    "from category_encoders import CatBoostEncoder\n",
    "\n",
    "from space_bandits import LinearBandits\n",
    "\n",
    "from sklearn.linear_model import LogisticRegression\n",
    "\n",
    "from tqdm import tqdm\n",
    "import yaml\n",
    "import numpy as np\n",
    "import matplotlib\n",
    "import matplotlib.pyplot as plt\n",
    "import seaborn as sn\n",
    "import plotly.express as px\n",
    "import sidetable\n",
    "from pylab import rcParams\n",
    "\n",
    "%matplotlib inline\n",
    "matplotlib.rc('figure', figsize=(15, 4))\n",
    "\n",
    "import warnings\n",
    "\n",
    "pd.options.display.max_colwidth = 200\n",
    "warnings.filterwarnings(\"ignore\")\n",
    "\n",
    "logging.basicConfig(format=\"%(asctime)s - [%(levelname)s] -  %(funcName)s - %(message)s\",\n",
    "                    datefmt=\"%d/%m/%Y %H:%M:%S\",\n",
    "                    level=logging.INFO)\n",
    "logger = logging.getLogger('MAIN')\n",
    "\n",
    "SEED = 42"
   ]
  },
  {
   "cell_type": "code",
   "execution_count": 2,
   "metadata": {},
   "outputs": [],
   "source": [
    "def seed_torch(seed: int) -> NoReturn:\n",
    "    \n",
    "    \"\"\"\n",
    "    Функция, которая фиксирует случайность для дальнейшего воспроизведения кода\n",
    "    params:\n",
    "        seed: значение зерна фиксации\n",
    "    \"\"\"\n",
    "    \n",
    "    random.seed(seed)\n",
    "    os.environ['PYTHONHASHSEED'] = str(seed)\n",
    "    np.random.seed(seed)\n",
    "\n",
    "seed_torch(SEED)"
   ]
  },
  {
   "cell_type": "code",
   "execution_count": 3,
   "metadata": {},
   "outputs": [],
   "source": [
    "def get_rewards(df, action_name: str, penalty: int=-10) -> List:\n",
    "    '''\n",
    "    Функция, которая рассчитывает reward (вознаграждение) по клиенту\n",
    "        action_name: действие, где 1 - открываем счет, 0 - не открываем счет\n",
    "    '''\n",
    "    \n",
    "    if df[action_name]==0: # если не открываем то список из действий и их наград [0,1] -> [0, penalty]\n",
    "        return [0, penalty]\n",
    "    else: \n",
    "        return [0, 1] # если открываем то список из действий и их наград [0, 1] -> [0, 1]"
   ]
  },
  {
   "cell_type": "code",
   "execution_count": 4,
   "metadata": {},
   "outputs": [],
   "source": [
    "### Предобработчик признаков\n",
    "\n",
    "class SentColumns(BaseEstimator, TransformerMixin):\n",
    "    \n",
    "    def __init__(self, columns: list=None) -> None:\n",
    "        self.columns = columns\n",
    "    \n",
    "    def fit(self, X:pd.DataFrame=None, y:pd.DataFrame=None):\n",
    "        return self\n",
    "\n",
    "    def transform(self, X:pd.DataFrame=None)->pd.DataFrame:\n",
    "        df_x = pd.DataFrame(X)\n",
    "        df_x.columns = self.columns\n",
    "        return df_x\n",
    "    \n",
    "def base_pipe(num_columns:list=None, cat_columns:list=None, fill_value:float=-1e24)->object:\n",
    "\n",
    "    # создаем конвейер для количественных переменных\n",
    "    num_pipe = Pipeline([\n",
    "        ('imputer', SimpleImputer(strategy='constant', fill_value = fill_value)),\n",
    "        ('scaler', StandardScaler())\n",
    "    ])\n",
    "\n",
    "    # создаем конвейер для категориальных переменных\n",
    "    cat_pipe = Pipeline([\n",
    "        ('catenc', CatBoostEncoder(cols=cat_columns))\n",
    "    ])\n",
    "\n",
    "    transformers = [('num', num_pipe, num_columns),\n",
    "                    ('cat', cat_pipe, cat_columns)]\n",
    "\n",
    "    # передаем список трансформеров в ColumnTransformer\n",
    "    transformer = ColumnTransformer(transformers=transformers)\n",
    "\n",
    "    # задаем итоговый конвейер\n",
    "    prep_pipe = Pipeline([\n",
    "        ('transform', transformer),\n",
    "        ('sent_columns', SentColumns(columns=num_columns+cat_columns))\n",
    "    ])  \n",
    "\n",
    "    return prep_pipe"
   ]
  },
  {
   "cell_type": "code",
   "execution_count": 5,
   "metadata": {},
   "outputs": [
    {
     "name": "stdout",
     "output_type": "stream",
     "text": [
      "(52049, 83)\n",
      "0.11297047013391227\n"
     ]
    },
    {
     "data": {
      "text/html": [
       "<div>\n",
       "<style scoped>\n",
       "    .dataframe tbody tr th:only-of-type {\n",
       "        vertical-align: middle;\n",
       "    }\n",
       "\n",
       "    .dataframe tbody tr th {\n",
       "        vertical-align: top;\n",
       "    }\n",
       "\n",
       "    .dataframe thead th {\n",
       "        text-align: right;\n",
       "    }\n",
       "</style>\n",
       "<table border=\"1\" class=\"dataframe\">\n",
       "  <thead>\n",
       "    <tr style=\"text-align: right;\">\n",
       "      <th></th>\n",
       "      <th>idinquiry</th>\n",
       "      <th>time_zajavki</th>\n",
       "      <th>tip_organizatsii</th>\n",
       "      <th>data_zajavki</th>\n",
       "      <th>year_mon_zajavki</th>\n",
       "      <th>quarter_zajavki</th>\n",
       "      <th>year_zajavki</th>\n",
       "      <th>inn</th>\n",
       "      <th>time_zagruzki_zajavki</th>\n",
       "      <th>kolichestvo_kompanij_s_analogichnym_direktorom_v_tom_zhe_regione</th>\n",
       "      <th>...</th>\n",
       "      <th>tax_profit</th>\n",
       "      <th>kmeans_2</th>\n",
       "      <th>kmeans_3</th>\n",
       "      <th>kmeans_4</th>\n",
       "      <th>kmeans_5</th>\n",
       "      <th>kmeans_6</th>\n",
       "      <th>kmeans_7</th>\n",
       "      <th>kmeans_8</th>\n",
       "      <th>kmeans_9</th>\n",
       "      <th>kmeans_10</th>\n",
       "    </tr>\n",
       "  </thead>\n",
       "  <tbody>\n",
       "    <tr>\n",
       "      <th>0</th>\n",
       "      <td>149105</td>\n",
       "      <td>2018-06-18 03:37:00.000000</td>\n",
       "      <td>ЮЛ</td>\n",
       "      <td>2018-06-18</td>\n",
       "      <td>2018-06</td>\n",
       "      <td>2018Q2</td>\n",
       "      <td>2018</td>\n",
       "      <td>BYKKBSYFTS</td>\n",
       "      <td>2018-06-18 03:34:03.993000</td>\n",
       "      <td>2.0</td>\n",
       "      <td>...</td>\n",
       "      <td>NaN</td>\n",
       "      <td>0</td>\n",
       "      <td>0</td>\n",
       "      <td>0</td>\n",
       "      <td>1</td>\n",
       "      <td>2</td>\n",
       "      <td>4</td>\n",
       "      <td>4</td>\n",
       "      <td>3</td>\n",
       "      <td>1</td>\n",
       "    </tr>\n",
       "    <tr>\n",
       "      <th>1</th>\n",
       "      <td>149107</td>\n",
       "      <td>2018-06-18 03:49:00.000000</td>\n",
       "      <td>ИП</td>\n",
       "      <td>2018-06-18</td>\n",
       "      <td>2018-06</td>\n",
       "      <td>2018Q2</td>\n",
       "      <td>2018</td>\n",
       "      <td>MIWYERAPTINW</td>\n",
       "      <td>2018-06-18 03:46:46.243000</td>\n",
       "      <td>0.0</td>\n",
       "      <td>...</td>\n",
       "      <td>NaN</td>\n",
       "      <td>0</td>\n",
       "      <td>2</td>\n",
       "      <td>1</td>\n",
       "      <td>0</td>\n",
       "      <td>0</td>\n",
       "      <td>1</td>\n",
       "      <td>0</td>\n",
       "      <td>0</td>\n",
       "      <td>5</td>\n",
       "    </tr>\n",
       "  </tbody>\n",
       "</table>\n",
       "<p>2 rows × 83 columns</p>\n",
       "</div>"
      ],
      "text/plain": [
       "   idinquiry                time_zajavki tip_organizatsii data_zajavki  \\\n",
       "0     149105  2018-06-18 03:37:00.000000               ЮЛ   2018-06-18   \n",
       "1     149107  2018-06-18 03:49:00.000000               ИП   2018-06-18   \n",
       "\n",
       "  year_mon_zajavki quarter_zajavki  year_zajavki           inn  \\\n",
       "0          2018-06          2018Q2          2018    BYKKBSYFTS   \n",
       "1          2018-06          2018Q2          2018  MIWYERAPTINW   \n",
       "\n",
       "        time_zagruzki_zajavki  \\\n",
       "0  2018-06-18 03:34:03.993000   \n",
       "1  2018-06-18 03:46:46.243000   \n",
       "\n",
       "   kolichestvo_kompanij_s_analogichnym_direktorom_v_tom_zhe_regione  ...  \\\n",
       "0                                                               2.0  ...   \n",
       "1                                                               0.0  ...   \n",
       "\n",
       "  tax_profit  kmeans_2  kmeans_3 kmeans_4 kmeans_5  kmeans_6  kmeans_7  \\\n",
       "0        NaN         0         0        0        1         2         4   \n",
       "1        NaN         0         2        1        0         0         1   \n",
       "\n",
       "   kmeans_8  kmeans_9  kmeans_10  \n",
       "0         4         3          1  \n",
       "1         0         0          5  \n",
       "\n",
       "[2 rows x 83 columns]"
      ]
     },
     "execution_count": 5,
     "metadata": {},
     "output_type": "execute_result"
    }
   ],
   "source": [
    "df = pd.read_csv(\"./data/df_train.csv\")\n",
    "print(df.shape)\n",
    "print(df.target.mean())\n",
    "df.head(2)"
   ]
  },
  {
   "cell_type": "code",
   "execution_count": 6,
   "metadata": {},
   "outputs": [
    {
     "name": "stdout",
     "output_type": "stream",
     "text": [
      "16 24\n"
     ]
    }
   ],
   "source": [
    "with open(r'./data/features.yaml', 'r') as f:\n",
    "    dict_features = yaml.load(f, Loader=yaml.Loader)\n",
    "num_cols = dict_features['cont_features']\n",
    "cat_cols = dict_features['cat_features']\n",
    "\n",
    "feat_cols = num_cols+cat_cols\n",
    "\n",
    "print(len(num_cols),len(cat_cols))"
   ]
  },
  {
   "cell_type": "code",
   "execution_count": 7,
   "metadata": {},
   "outputs": [
    {
     "data": {
      "text/html": [
       "<div>\n",
       "<style scoped>\n",
       "    .dataframe tbody tr th:only-of-type {\n",
       "        vertical-align: middle;\n",
       "    }\n",
       "\n",
       "    .dataframe tbody tr th {\n",
       "        vertical-align: top;\n",
       "    }\n",
       "\n",
       "    .dataframe thead th {\n",
       "        text-align: right;\n",
       "    }\n",
       "</style>\n",
       "<table border=\"1\" class=\"dataframe\">\n",
       "  <thead>\n",
       "    <tr style=\"text-align: right;\">\n",
       "      <th></th>\n",
       "      <th>idinquiry</th>\n",
       "      <th>time_zajavki</th>\n",
       "      <th>tip_organizatsii</th>\n",
       "      <th>data_zajavki</th>\n",
       "      <th>year_mon_zajavki</th>\n",
       "      <th>quarter_zajavki</th>\n",
       "      <th>year_zajavki</th>\n",
       "      <th>inn</th>\n",
       "      <th>time_zagruzki_zajavki</th>\n",
       "      <th>kolichestvo_kompanij_s_analogichnym_direktorom_v_tom_zhe_regione</th>\n",
       "      <th>...</th>\n",
       "      <th>tax_profit</th>\n",
       "      <th>kmeans_2</th>\n",
       "      <th>kmeans_3</th>\n",
       "      <th>kmeans_4</th>\n",
       "      <th>kmeans_5</th>\n",
       "      <th>kmeans_6</th>\n",
       "      <th>kmeans_7</th>\n",
       "      <th>kmeans_8</th>\n",
       "      <th>kmeans_9</th>\n",
       "      <th>kmeans_10</th>\n",
       "    </tr>\n",
       "  </thead>\n",
       "  <tbody>\n",
       "    <tr>\n",
       "      <th>0</th>\n",
       "      <td>149105</td>\n",
       "      <td>2018-06-18 03:37:00.000000</td>\n",
       "      <td>ЮЛ</td>\n",
       "      <td>2018-06-18</td>\n",
       "      <td>2018-06</td>\n",
       "      <td>2018Q2</td>\n",
       "      <td>2018</td>\n",
       "      <td>BYKKBSYFTS</td>\n",
       "      <td>2018-06-18 03:34:03.993000</td>\n",
       "      <td>2.0</td>\n",
       "      <td>...</td>\n",
       "      <td>-0.395848</td>\n",
       "      <td>0.112970</td>\n",
       "      <td>0</td>\n",
       "      <td>0</td>\n",
       "      <td>0.11297</td>\n",
       "      <td>2</td>\n",
       "      <td>4</td>\n",
       "      <td>4</td>\n",
       "      <td>0.11297</td>\n",
       "      <td>0.11297</td>\n",
       "    </tr>\n",
       "    <tr>\n",
       "      <th>1</th>\n",
       "      <td>149107</td>\n",
       "      <td>2018-06-18 03:49:00.000000</td>\n",
       "      <td>ИП</td>\n",
       "      <td>2018-06-18</td>\n",
       "      <td>2018-06</td>\n",
       "      <td>2018Q2</td>\n",
       "      <td>2018</td>\n",
       "      <td>MIWYERAPTINW</td>\n",
       "      <td>2018-06-18 03:46:46.243000</td>\n",
       "      <td>0.0</td>\n",
       "      <td>...</td>\n",
       "      <td>-0.395848</td>\n",
       "      <td>0.056485</td>\n",
       "      <td>2</td>\n",
       "      <td>1</td>\n",
       "      <td>0.11297</td>\n",
       "      <td>0</td>\n",
       "      <td>1</td>\n",
       "      <td>0</td>\n",
       "      <td>0.11297</td>\n",
       "      <td>0.11297</td>\n",
       "    </tr>\n",
       "  </tbody>\n",
       "</table>\n",
       "<p>2 rows × 83 columns</p>\n",
       "</div>"
      ],
      "text/plain": [
       "   idinquiry                time_zajavki tip_organizatsii data_zajavki  \\\n",
       "0     149105  2018-06-18 03:37:00.000000               ЮЛ   2018-06-18   \n",
       "1     149107  2018-06-18 03:49:00.000000               ИП   2018-06-18   \n",
       "\n",
       "  year_mon_zajavki quarter_zajavki  year_zajavki           inn  \\\n",
       "0          2018-06          2018Q2          2018    BYKKBSYFTS   \n",
       "1          2018-06          2018Q2          2018  MIWYERAPTINW   \n",
       "\n",
       "        time_zagruzki_zajavki  \\\n",
       "0  2018-06-18 03:34:03.993000   \n",
       "1  2018-06-18 03:46:46.243000   \n",
       "\n",
       "   kolichestvo_kompanij_s_analogichnym_direktorom_v_tom_zhe_regione  ...  \\\n",
       "0                                                               2.0  ...   \n",
       "1                                                               0.0  ...   \n",
       "\n",
       "   tax_profit  kmeans_2  kmeans_3  kmeans_4  kmeans_5  kmeans_6  kmeans_7  \\\n",
       "0   -0.395848  0.112970         0         0   0.11297         2         4   \n",
       "1   -0.395848  0.056485         2         1   0.11297         0         1   \n",
       "\n",
       "   kmeans_8  kmeans_9  kmeans_10  \n",
       "0         4   0.11297    0.11297  \n",
       "1         0   0.11297    0.11297  \n",
       "\n",
       "[2 rows x 83 columns]"
      ]
     },
     "execution_count": 7,
     "metadata": {},
     "output_type": "execute_result"
    }
   ],
   "source": [
    "data_prepared = base_pipe(num_columns=num_cols,\n",
    "                          cat_columns=cat_cols).fit_transform(df,\n",
    "                                                              df[\"target\"]).reset_index(drop=True)\n",
    "df[num_cols+cat_cols] = data_prepared[num_cols+cat_cols]\n",
    "df.head(2)"
   ]
  },
  {
   "cell_type": "code",
   "execution_count": 8,
   "metadata": {},
   "outputs": [],
   "source": [
    "df['best_action'] = np.where(df.target==1, 0, 1)\n",
    "df['rewards'] = df.apply(lambda x: get_rewards(df=x, action_name='best_action', penalty=-3), axis=1)"
   ]
  },
  {
   "cell_type": "code",
   "execution_count": 9,
   "metadata": {},
   "outputs": [],
   "source": [
    "context = ['indeks_finansovogo_riska', 'kod_osnovnogo_okved', 'data_registratsii','sub_ekt_mestonahozhdenija']\n",
    "action_name = 'best_action'\n",
    "reward_name = 'rewards'"
   ]
  },
  {
   "cell_type": "code",
   "execution_count": 10,
   "metadata": {},
   "outputs": [
    {
     "name": "stdout",
     "output_type": "stream",
     "text": [
      "(52049, 7)\n"
     ]
    },
    {
     "data": {
      "text/html": [
       "<div>\n",
       "<style scoped>\n",
       "    .dataframe tbody tr th:only-of-type {\n",
       "        vertical-align: middle;\n",
       "    }\n",
       "\n",
       "    .dataframe tbody tr th {\n",
       "        vertical-align: top;\n",
       "    }\n",
       "\n",
       "    .dataframe thead th {\n",
       "        text-align: right;\n",
       "    }\n",
       "</style>\n",
       "<table border=\"1\" class=\"dataframe\">\n",
       "  <thead>\n",
       "    <tr style=\"text-align: right;\">\n",
       "      <th></th>\n",
       "      <th>indeks_finansovogo_riska</th>\n",
       "      <th>kod_osnovnogo_okved</th>\n",
       "      <th>data_registratsii</th>\n",
       "      <th>sub_ekt_mestonahozhdenija</th>\n",
       "      <th>target</th>\n",
       "      <th>best_action</th>\n",
       "      <th>rewards</th>\n",
       "    </tr>\n",
       "  </thead>\n",
       "  <tbody>\n",
       "    <tr>\n",
       "      <th>0</th>\n",
       "      <td>0.112970</td>\n",
       "      <td>0.11297</td>\n",
       "      <td>0.112970</td>\n",
       "      <td>0.11297</td>\n",
       "      <td>0</td>\n",
       "      <td>1</td>\n",
       "      <td>[0, 1]</td>\n",
       "    </tr>\n",
       "    <tr>\n",
       "      <th>1</th>\n",
       "      <td>0.112970</td>\n",
       "      <td>0.11297</td>\n",
       "      <td>0.112970</td>\n",
       "      <td>0.11297</td>\n",
       "      <td>0</td>\n",
       "      <td>1</td>\n",
       "      <td>[0, 1]</td>\n",
       "    </tr>\n",
       "    <tr>\n",
       "      <th>2</th>\n",
       "      <td>0.056485</td>\n",
       "      <td>0.11297</td>\n",
       "      <td>0.112970</td>\n",
       "      <td>0.11297</td>\n",
       "      <td>0</td>\n",
       "      <td>1</td>\n",
       "      <td>[0, 1]</td>\n",
       "    </tr>\n",
       "    <tr>\n",
       "      <th>3</th>\n",
       "      <td>0.112970</td>\n",
       "      <td>0.11297</td>\n",
       "      <td>0.112970</td>\n",
       "      <td>0.11297</td>\n",
       "      <td>0</td>\n",
       "      <td>1</td>\n",
       "      <td>[0, 1]</td>\n",
       "    </tr>\n",
       "    <tr>\n",
       "      <th>4</th>\n",
       "      <td>0.056485</td>\n",
       "      <td>0.11297</td>\n",
       "      <td>0.056485</td>\n",
       "      <td>0.11297</td>\n",
       "      <td>1</td>\n",
       "      <td>0</td>\n",
       "      <td>[0, -3]</td>\n",
       "    </tr>\n",
       "  </tbody>\n",
       "</table>\n",
       "</div>"
      ],
      "text/plain": [
       "   indeks_finansovogo_riska  kod_osnovnogo_okved  data_registratsii  \\\n",
       "0                  0.112970              0.11297           0.112970   \n",
       "1                  0.112970              0.11297           0.112970   \n",
       "2                  0.056485              0.11297           0.112970   \n",
       "3                  0.112970              0.11297           0.112970   \n",
       "4                  0.056485              0.11297           0.056485   \n",
       "\n",
       "   sub_ekt_mestonahozhdenija  target  best_action  rewards  \n",
       "0                    0.11297       0            1   [0, 1]  \n",
       "1                    0.11297       0            1   [0, 1]  \n",
       "2                    0.11297       0            1   [0, 1]  \n",
       "3                    0.11297       0            1   [0, 1]  \n",
       "4                    0.11297       1            0  [0, -3]  "
      ]
     },
     "execution_count": 10,
     "metadata": {},
     "output_type": "execute_result"
    }
   ],
   "source": [
    "df = df[context+[\"target\"]+[action_name]+[reward_name]]\n",
    "print(df.shape)\n",
    "df.head()"
   ]
  },
  {
   "cell_type": "code",
   "execution_count": 11,
   "metadata": {},
   "outputs": [],
   "source": [
    "from space_bandits import LinearBandits"
   ]
  },
  {
   "cell_type": "code",
   "execution_count": 12,
   "metadata": {},
   "outputs": [],
   "source": [
    "num_actions = df[action_name].nunique()\n",
    "num_features = len(context)\n",
    "linearb_model = LinearBandits(num_actions=num_actions, \n",
    "                              num_features=num_features, \n",
    "                              initial_pulls=100)"
   ]
  },
  {
   "cell_type": "code",
   "execution_count": 13,
   "metadata": {},
   "outputs": [
    {
     "name": "stdout",
     "output_type": "stream",
     "text": [
      "(39036, 7) (13013, 7)\n"
     ]
    }
   ],
   "source": [
    "train, valid = train_test_split(df, test_size=0.25, random_state=SEED)\n",
    "train.reset_index(drop=True, inplace=True)\n",
    "valid.reset_index(drop=True, inplace=True)\n",
    "print(train.shape, valid.shape)"
   ]
  },
  {
   "cell_type": "code",
   "execution_count": 14,
   "metadata": {},
   "outputs": [],
   "source": [
    "def make_plots(history: Dict):\n",
    "    plt.plot(history['cumulative_reward_list'], label = 'Reward total', c = 'red')\n",
    "    plt.plot(history['cumulative_regret_list'], label = 'Regret total', c = 'blue')\n",
    "    plt.title(\"Эволюция общей суммы Reward и Regred\")\n",
    "    plt.legend()\n",
    "    plt.grid()"
   ]
  },
  {
   "cell_type": "code",
   "execution_count": 15,
   "metadata": {},
   "outputs": [],
   "source": [
    "class MBanditsSystem:\n",
    "    def __init__(self, action_name: str, reward_name: str, coef: float):\n",
    "        \n",
    "        '''\n",
    "        Класс UcbBanditsSystem системы обучения по батчам и дообучения\n",
    "            action_name: столбец действия/ руки\n",
    "            reward_name: столбец награды/ ответа\n",
    "            coef: параметр исследования\n",
    "        '''\n",
    "        \n",
    "        self.action_name = action_name\n",
    "        self.reward_name = reward_name\n",
    "        self.coef = coef\n",
    "        \n",
    "        self.cnt = 0\n",
    "        \n",
    "    def train(self, df: pd.DataFrame, random: bool=False, reset: bool=False):\n",
    "        \n",
    "        '''\n",
    "        Функция обучения\n",
    "            df: датафрейм с контекстом, действиями и наградой\n",
    "            random: параметр модели случайная / UCB\n",
    "        '''\n",
    "        history = {'cumulative_reward_list': list(),\n",
    "                   'cumulative_regret_list': list()}\n",
    "        \n",
    "        # общее вознаграждение и упущенная возможность\n",
    "        self.cumulative_reward, self.total_regret = 0, 0\n",
    "        \n",
    "        n_arms = df[self.action_name].nunique()\n",
    "        arm_indices = np.array(range(n_arms))\n",
    "        \n",
    "        # среднее вознаграждение за каждую руку\n",
    "        self.Q = np.zeros(n_arms)\n",
    "        # критерий неопределенности UCB\n",
    "        self.uncertainty = np.zeros(n_arms)\n",
    "        # количество шагов для каждой руки\n",
    "        self.N = np.zeros(n_arms)\n",
    "        \n",
    "        if reset:\n",
    "            self.cnt = 0\n",
    "        \n",
    "        # итерируемся по обчающему множеству\n",
    "        for indx, row in tqdm(df.iterrows()):\n",
    "            \n",
    "            if random:\n",
    "                arm = np.random.choice(arm_indices)\n",
    "            else:\n",
    "                # выбор руки\n",
    "                if any(self.N==0):\n",
    "                    arm = np.random.choice(arm_indices[self.N==0])\n",
    "                else:\n",
    "                    uncertainty = np.sqrt(np.log(self.cnt) / self.N)\n",
    "                    arm = np.argmax(self.Q +  self.coef * self.uncertainty)\n",
    "\n",
    "            self.cnt += 1\n",
    "            \n",
    "            #### Надо задать конверсии (мб через бернулливскую величину)\n",
    "            # ЭКСПЕРИМЕНТ№1: 2%,4%,6% конверсии, награды одинаковы\n",
    "            # ЭКСПЕРИМЕНТ№2: 2%,4%,6% конверсии, награды 6,4,2\n",
    "            # ЭКСПЕРИМЕНТ№3: 2%,4%,6% конверсии, поменялись награды в середине (сначала одинаковы, потом 6,4,2)\n",
    "            \n",
    "            \n",
    "            ### НУЖНО ПОКУМЕКАТЬ... (что если у нас нет никакой информации о том какая рука оптимальная и какая награда для каждой из рук...)\n",
    "            reward = row[self.reward_name][arm]\n",
    "        \n",
    "            mx = row[self.reward_name][row[self.action_name]]\n",
    "            \n",
    "            self.N[arm] += 1\n",
    "            self.Q[arm] += (1 / self.N[arm]) * (reward - self.Q[arm])\n",
    "            \n",
    "            \n",
    "            # считаем вознаграждение, упущенную возможность и добавляем к накопительным спискам\n",
    "            regret = mx - reward\n",
    "            self.total_regret += regret\n",
    "            history['cumulative_regret_list'].append(self.total_regret)\n",
    "            self.cumulative_reward += reward\n",
    "            history['cumulative_reward_list'].append(self.cumulative_reward)\n",
    "        \n",
    "        if random:\n",
    "            self.bandit = None\n",
    "        else:\n",
    "            self.bandit = {'Q':self.Q,'uncertainty':self.uncertainty,'N':self.N}\n",
    "                    \n",
    "        return self.bandit, history\n",
    "    \n",
    "    def fine_train(self, pre_train_bandit, df: pd.DataFrame):\n",
    "        \n",
    "        '''\n",
    "        Функция дообучения\n",
    "            df: датафрейм с контекстом, действиями и наградой\n",
    "        '''\n",
    "        history_fine = {'cumulative_reward_list': list(),\n",
    "                        'cumulative_regret_list': list()}\n",
    "        \n",
    "        cumulative_reward, total_regret = self.cumulative_reward, self.total_regret\n",
    "        \n",
    "        bandit = copy.deepcopy(pre_train_bandit)\n",
    "        \n",
    "        n_arms = df[self.action_name].nunique()\n",
    "        arm_indices = np.array(range(n_arms))\n",
    "        \n",
    "        fine_cnt = self.cnt\n",
    "        \n",
    "        if bandit is None:\n",
    "            logger.error('Дообучение доступно только для UCB алгоритма!')\n",
    "            return None, None\n",
    "        \n",
    "        else:\n",
    "\n",
    "            for indx_update, row_update in df.iterrows():\n",
    "\n",
    "                # выбор руки\n",
    "                if any(bandit['N']==0):\n",
    "                    arm = np.random.choice(arm_indices[bandit['N']==0])\n",
    "                else:\n",
    "                    bandit['uncertainty'] = np.sqrt(np.log(fine_cnt) / bandit['N'])\n",
    "                    arm = np.argmax(bandit['Q'] +  self.coef * bandit['uncertainty'])\n",
    "            \n",
    "                fine_cnt += 1\n",
    "                \n",
    "                reward = row_update[self.reward_name][arm]\n",
    "\n",
    "                mx = row_update[self.reward_name][row_update[self.action_name]]\n",
    "\n",
    "                bandit['N'][arm] += 1\n",
    "                bandit['Q'][arm] += (1 / bandit['N'][arm]) * (reward - bandit['Q'][arm])\n",
    "\n",
    "                # считаем вознаграждение, упущенную возможность и добавляем к накопительным спискам\n",
    "                regret = mx - reward\n",
    "                total_regret += regret\n",
    "                history_fine['cumulative_regret_list'].append(total_regret)\n",
    "                cumulative_reward += reward\n",
    "                history_fine['cumulative_reward_list'].append(cumulative_reward)\n",
    "        \n",
    "            logger.info(f'Было дообучено {fine_cnt-self.cnt} клиентов к {self.cnt}, итого UCB алгоритм обучен на {fine_cnt} клиентах!')\n",
    "            \n",
    "            return bandit, history_fine    "
   ]
  },
  {
   "cell_type": "code",
   "execution_count": 16,
   "metadata": {},
   "outputs": [],
   "source": [
    "mabmodel = MBanditsSystem(action_name=action_name,\n",
    "                          reward_name=reward_name,\n",
    "                          coef=10)"
   ]
  },
  {
   "cell_type": "code",
   "execution_count": 17,
   "metadata": {},
   "outputs": [
    {
     "name": "stderr",
     "output_type": "stream",
     "text": [
      "39036it [00:04, 9397.02it/s]\n"
     ]
    }
   ],
   "source": [
    "random_bandit_model, random_history = mabmodel.train(df=train, random=True, reset=True)\n",
    "random_bandit_model"
   ]
  },
  {
   "cell_type": "code",
   "execution_count": 18,
   "metadata": {},
   "outputs": [
    {
     "data": {
      "image/png": "[encoded data removed]",
      "text/plain": [
       "<Figure size 1500x400 with 1 Axes>"
      ]
     },
     "metadata": {},
     "output_type": "display_data"
    }
   ],
   "source": [
    "make_plots(random_history)"
   ]
  },
  {
   "cell_type": "markdown",
   "metadata": {},
   "source": [
    "---\n",
    "# UCB"
   ]
  },
  {
   "cell_type": "code",
   "execution_count": 19,
   "metadata": {},
   "outputs": [
    {
     "name": "stderr",
     "output_type": "stream",
     "text": [
      "39036it [00:04, 9387.07it/s] \n"
     ]
    }
   ],
   "source": [
    "ucb_bandit_model, ucb_history = mabmodel.train(df=train, reset=True)"
   ]
  },
  {
   "cell_type": "code",
   "execution_count": 20,
   "metadata": {},
   "outputs": [
    {
     "data": {
      "text/plain": [
       "{'Q': array([ 0.        , -0.33333333]),\n",
       " 'uncertainty': array([0., 0.]),\n",
       " 'N': array([3.903e+04, 6.000e+00])}"
      ]
     },
     "execution_count": 20,
     "metadata": {},
     "output_type": "execute_result"
    }
   ],
   "source": [
    "ucb_bandit_model"
   ]
  },
  {
   "cell_type": "code",
   "execution_count": 21,
   "metadata": {},
   "outputs": [
    {
     "data": {
      "image/png": "[encoded data removed]",
      "text/plain": [
       "<Figure size 1500x400 with 1 Axes>"
      ]
     },
     "metadata": {},
     "output_type": "display_data"
    }
   ],
   "source": [
    "make_plots(ucb_history)"
   ]
  },
  {
   "cell_type": "code",
   "execution_count": 22,
   "metadata": {},
   "outputs": [],
   "source": [
    "width = 0.45\n",
    "bins = np.linspace(0, num_actions-1, num_actions) - width/2"
   ]
  },
  {
   "cell_type": "code",
   "execution_count": 23,
   "metadata": {},
   "outputs": [
    {
     "data": {
      "image/png": "[encoded data removed]",
      "text/plain": [
       "<Figure size 1200x800 with 1 Axes>"
      ]
     },
     "metadata": {},
     "output_type": "display_data"
    }
   ],
   "source": [
    "plt.figure(figsize=(12,8))\n",
    "plt.bar(bins+0.45, ucb_bandit_model['N'],\n",
    "        width=width, \n",
    "        label=\"UCB\")\n",
    "plt.legend(bbox_to_anchor=(1.3, 0.5))\n",
    "plt.title(\"Number of Actions Selected by Each Algorithm\")\n",
    "plt.xlabel(\"Action\")\n",
    "plt.ylabel(\"Number of Actions Taken\")\n",
    "plt.show()"
   ]
  },
  {
   "cell_type": "code",
   "execution_count": 24,
   "metadata": {},
   "outputs": [
    {
     "name": "stderr",
     "output_type": "stream",
     "text": [
      "09/08/2024 17:14:12 - [INFO] -  fine_train - Было дообучено 13013 клиентов к 39036, итого UCB алгоритм обучен на 52049 клиентах!\n"
     ]
    }
   ],
   "source": [
    "ucb_bandit_fine_model, ucb_fine_history = mabmodel.fine_train(df=valid, pre_train_bandit=ucb_bandit_model)"
   ]
  },
  {
   "cell_type": "code",
   "execution_count": 25,
   "metadata": {},
   "outputs": [
    {
     "data": {
      "text/plain": [
       "{'Q': array([0.        , 0.57016668]),\n",
       " 'uncertainty': array([0.01668069, 0.02888293]),\n",
       " 'N': array([39030., 13019.])}"
      ]
     },
     "execution_count": 25,
     "metadata": {},
     "output_type": "execute_result"
    }
   ],
   "source": [
    "ucb_bandit_fine_model"
   ]
  },
  {
   "cell_type": "code",
   "execution_count": 26,
   "metadata": {},
   "outputs": [
    {
     "data": {
      "image/png": "[encoded data removed]",
      "text/plain": [
       "<Figure size 1500x400 with 1 Axes>"
      ]
     },
     "metadata": {},
     "output_type": "display_data"
    }
   ],
   "source": [
    "make_plots(ucb_fine_history)"
   ]
  },
  {
   "cell_type": "code",
   "execution_count": 27,
   "metadata": {},
   "outputs": [
    {
     "data": {
      "image/png": "[encoded data removed]",
      "text/plain": [
       "<Figure size 1200x800 with 1 Axes>"
      ]
     },
     "metadata": {},
     "output_type": "display_data"
    }
   ],
   "source": [
    "plt.figure(figsize=(12,8))\n",
    "plt.bar(bins+0.45, ucb_bandit_fine_model['N'],\n",
    "        width=width, \n",
    "        label=\"UCB\")\n",
    "plt.legend(bbox_to_anchor=(1.3, 0.5))\n",
    "plt.title(\"Number of Actions Selected by Each Algorithm\")\n",
    "plt.xlabel(\"Action\")\n",
    "plt.ylabel(\"Number of Actions Taken\")\n",
    "plt.show()"
   ]
  },
  {
   "cell_type": "code",
   "execution_count": 28,
   "metadata": {},
   "outputs": [],
   "source": [
    "from collections import Counter\n",
    "\n",
    "class LinearBanditsSystem:\n",
    "    def __init__(self, bandit_model, context_list: List, action_name: str, reward_name: str):\n",
    "        \n",
    "        '''\n",
    "        Класс LinearBanditsSystem системы обучения по батчам и дообучения\n",
    "            bandit_model: объект бандита из Space Bandits\n",
    "            context_list: список фичей для контекста\n",
    "            action_name: столбец действия/ руки\n",
    "            reward_name: столбец награды/ ответа\n",
    "        '''\n",
    "        \n",
    "        self.bandit = bandit_model\n",
    "        self.context_list = context_list\n",
    "        self.action_name = action_name\n",
    "        self.reward_name = reward_name\n",
    "        \n",
    "        self.num_actions = bandit_model.hparams['num_actions']\n",
    "        self.cnt = 0\n",
    "        \n",
    "    def train(self, df: pd.DataFrame, first_batch_size: int, retrain: bool = False):\n",
    "        \n",
    "        '''\n",
    "        Функция обучения\n",
    "            df: датафрейм с контекстом, действиями и наградой\n",
    "            first_batch_size: размер батча обучения\n",
    "        '''\n",
    "        history = {'cumulative_reward_list': list(),\n",
    "                   'cumulative_regret_list': list()}\n",
    "        \n",
    "        X, y, a = list(), list(), list()\n",
    "        \n",
    "        # общее вознаграждение и упущенная возможность\n",
    "        self.cumulative_reward, self.total_regret = 0, 0\n",
    "        \n",
    "        # итерируемся по обчающему множеству\n",
    "        for indx, row in tqdm(df.iterrows()):\n",
    "            \n",
    "            # достаем контекст по клиенту\n",
    "            context = np.array([row[self.context_list]])\n",
    "            \n",
    "            # условие накопления данных, установлен размер first_batch_size\n",
    "            if (self.cnt+1) < first_batch_size:\n",
    "                # пока не накопили данные - дергаем ручку случайно из array действий\n",
    "                arm = np.random.choice(np.array(range(self.num_actions)))\n",
    "            else:\n",
    "                # как только накопили случайные действия, начинаем принимать решения относительно знаний бандита\n",
    "                arm = self.bandit.action(context)\n",
    "            self.cnt += 1\n",
    "            \n",
    "            # если действие не равно оптимальному - получаем нулевое вознаграждение, в остальных случаях берем наилучшее вознаграждение\n",
    "            \n",
    "            reward = float(row[self.reward_name][arm])\n",
    "\n",
    "            mx = row[self.reward_name][row[self.action_name]]\n",
    "            \n",
    "            # добавляем к выборке всех проверенных клиентов\n",
    "            X.append(context.tolist()[0])\n",
    "            y.append(reward)\n",
    "            a.append(arm)\n",
    "            \n",
    "            # считаем вознаграждение, упущенную возможность и добавляем к накопительным спискам\n",
    "            regret = mx - reward\n",
    "            self.total_regret += regret\n",
    "            history['cumulative_regret_list'].append(self.total_regret)\n",
    "            self.cumulative_reward += reward\n",
    "            history['cumulative_reward_list'].append(self.cumulative_reward)\n",
    "            \n",
    "            # как только изучили first_batch_size клиентов, обновляем и обучаем бандита\n",
    "            if self.cnt % first_batch_size == 0:\n",
    "                logger.info(msg=f'Обновление модели на подвыборке {self.cnt}')\n",
    "                train_df = pd.DataFrame(X,\n",
    "                                        columns=self.context_list)\n",
    "                train_df[self.reward_name] = y\n",
    "                train_df[self.action_name] = a\n",
    "                logger.info(msg=f'Распределение ручек: \\n{train_df[self.action_name].value_counts()}')\n",
    "                logger.info(msg=f'Текущий regret: {history[\"cumulative_regret_list\"][-1]}')\n",
    "\n",
    "                for indx_update, row_update in train_df.iterrows():\n",
    "                    context = np.array([row_update[self.context_list]])\n",
    "                    action = int(row_update[self.action_name])\n",
    "                    reward = float(row_update[self.reward_name])\n",
    "                    self.bandit.update(context, action, reward)\n",
    "                    \n",
    "                if retrain:\n",
    "                    X, y, a = list(), list(), list()\n",
    "                    \n",
    "        return self.bandit, history\n",
    "                    \n",
    "    def fine_train(self, pre_train_bandit, df: pd.DataFrame):\n",
    "        \n",
    "        '''\n",
    "        Функция дообучения\n",
    "            df: датафрейм с контекстом, действиями и наградой\n",
    "        '''\n",
    "        history_fine = {'cumulative_reward_list': list(),\n",
    "                        'cumulative_regret_list': list()}\n",
    "        \n",
    "        a = list()\n",
    "        \n",
    "        cumulative_reward, total_regret = self.cumulative_reward, self.total_regret\n",
    "        \n",
    "        bandit = copy.deepcopy(pre_train_bandit)\n",
    "\n",
    "        for indx_update, row_update in tqdm(df.iterrows()):\n",
    "            \n",
    "            context = np.array([row_update[self.context_list]])\n",
    "            action = int(row_update[self.action_name])\n",
    "            \n",
    "            arm = bandit.action(context)\n",
    "            reward = float(row_update[self.reward_name][arm])\n",
    "            bandit.update(context, action, reward)\n",
    "            \n",
    "            a.append(arm)\n",
    "            \n",
    "            mx = row_update[self.reward_name][row_update[self.action_name]]\n",
    "            \n",
    "            # считаем вознаграждение, упущенную возможность и добавляем к накопительным спискам\n",
    "            regret = mx - reward\n",
    "            total_regret += regret\n",
    "            history_fine['cumulative_regret_list'].append(total_regret)\n",
    "            cumulative_reward += reward\n",
    "            history_fine['cumulative_reward_list'].append(cumulative_reward)\n",
    "        logger.info(msg=f'Распределение ручек после дообучения: \\n{Counter(a)}')\n",
    "        \n",
    "        return bandit, history_fine"
   ]
  },
  {
   "cell_type": "code",
   "execution_count": 29,
   "metadata": {},
   "outputs": [],
   "source": [
    "model = LinearBanditsSystem(bandit_model=linearb_model,\n",
    "                            context_list=context,\n",
    "                            action_name=action_name,\n",
    "                            reward_name=reward_name\n",
    "                           )"
   ]
  },
  {
   "cell_type": "code",
   "execution_count": 30,
   "metadata": {
    "tags": []
   },
   "outputs": [
    {
     "name": "stderr",
     "output_type": "stream",
     "text": [
      "4969it [00:03, 1771.38it/s]09/08/2024 17:14:25 - [INFO] -  train - Обновление модели на подвыборке 5000\n",
      "09/08/2024 17:14:25 - [INFO] -  train - Распределение ручек: \n",
      "0    2505\n",
      "1    2495\n",
      "Name: best_action, dtype: int64\n",
      "09/08/2024 17:14:25 - [INFO] -  train - Текущий regret: 3094.0\n",
      "9934it [00:13, 886.65it/s] 09/08/2024 17:14:36 - [INFO] -  train - Обновление модели на подвыборке 10000\n",
      "09/08/2024 17:14:36 - [INFO] -  train - Распределение ручек: \n",
      "1    4473\n",
      "0     527\n",
      "Name: best_action, dtype: int64\n",
      "09/08/2024 17:14:36 - [INFO] -  train - Текущий regret: 4570.0\n",
      "14995it [00:28, 1017.68it/s]09/08/2024 17:14:50 - [INFO] -  train - Обновление модели на подвыборке 15000\n",
      "09/08/2024 17:14:50 - [INFO] -  train - Распределение ручек: \n",
      "1    4527\n",
      "0     473\n",
      "Name: best_action, dtype: int64\n",
      "09/08/2024 17:14:50 - [INFO] -  train - Текущий regret: 6145.0\n",
      "19996it [00:45, 874.77it/s] 09/08/2024 17:15:07 - [INFO] -  train - Обновление модели на подвыборке 20000\n",
      "09/08/2024 17:15:07 - [INFO] -  train - Распределение ручек: \n",
      "1    4511\n",
      "0     489\n",
      "Name: best_action, dtype: int64\n",
      "09/08/2024 17:15:07 - [INFO] -  train - Текущий regret: 7693.0\n",
      "24964it [01:07, 496.74it/s]09/08/2024 17:15:30 - [INFO] -  train - Обновление модели на подвыборке 25000\n",
      "09/08/2024 17:15:30 - [INFO] -  train - Распределение ручек: \n",
      "1    4576\n",
      "0     424\n",
      "Name: best_action, dtype: int64\n",
      "09/08/2024 17:15:30 - [INFO] -  train - Текущий regret: 9195.0\n",
      "29926it [01:31, 973.62it/s]09/08/2024 17:15:53 - [INFO] -  train - Обновление модели на подвыборке 30000\n",
      "09/08/2024 17:15:53 - [INFO] -  train - Распределение ручек: \n",
      "1    4606\n",
      "0     394\n",
      "Name: best_action, dtype: int64\n",
      "09/08/2024 17:15:53 - [INFO] -  train - Текущий regret: 10687.0\n",
      "34969it [01:58, 964.02it/s]09/08/2024 17:16:20 - [INFO] -  train - Обновление модели на подвыборке 35000\n",
      "09/08/2024 17:16:20 - [INFO] -  train - Распределение ручек: \n",
      "1    4620\n",
      "0     380\n",
      "Name: best_action, dtype: int64\n",
      "09/08/2024 17:16:20 - [INFO] -  train - Текущий regret: 12327.0\n",
      "39036it [02:29, 261.85it/s]\n"
     ]
    }
   ],
   "source": [
    "base_bandit_model, train_history = model.train(df=train,\n",
    "                                               first_batch_size=5_000,\n",
    "                                               retrain=True\n",
    "                                              )"
   ]
  },
  {
   "cell_type": "code",
   "execution_count": 31,
   "metadata": {},
   "outputs": [
    {
     "data": {
      "image/png": "[encoded data removed]",
      "text/plain": [
       "<Figure size 1500x400 with 1 Axes>"
      ]
     },
     "metadata": {},
     "output_type": "display_data"
    }
   ],
   "source": [
    "make_plots(train_history)"
   ]
  },
  {
   "cell_type": "markdown",
   "metadata": {},
   "source": [
    "---\n",
    "# Модель обучена\n",
    "### Применим на валидационной выборке\n",
    "* Отдаем выборку с действиями заказчику"
   ]
  },
  {
   "cell_type": "code",
   "execution_count": 32,
   "metadata": {},
   "outputs": [],
   "source": [
    "from sklearn.metrics import classification_report"
   ]
  },
  {
   "cell_type": "code",
   "execution_count": 33,
   "metadata": {},
   "outputs": [
    {
     "name": "stdout",
     "output_type": "stream",
     "text": [
      "(6506, 7) (6507, 7)\n"
     ]
    }
   ],
   "source": [
    "valid, control = train_test_split(valid, test_size=0.5)\n",
    "valid.reset_index(drop=True, inplace=True)\n",
    "control.reset_index(drop=True, inplace=True)\n",
    "print(valid.shape, control.shape)"
   ]
  },
  {
   "cell_type": "code",
   "execution_count": 34,
   "metadata": {},
   "outputs": [
    {
     "data": {
      "text/plain": [
       "['indeks_finansovogo_riska',\n",
       " 'kod_osnovnogo_okved',\n",
       " 'data_registratsii',\n",
       " 'sub_ekt_mestonahozhdenija']"
      ]
     },
     "execution_count": 34,
     "metadata": {},
     "output_type": "execute_result"
    }
   ],
   "source": [
    "model.context_list"
   ]
  },
  {
   "cell_type": "code",
   "execution_count": 35,
   "metadata": {},
   "outputs": [
    {
     "data": {
      "text/html": [
       "<div>\n",
       "<style scoped>\n",
       "    .dataframe tbody tr th:only-of-type {\n",
       "        vertical-align: middle;\n",
       "    }\n",
       "\n",
       "    .dataframe tbody tr th {\n",
       "        vertical-align: top;\n",
       "    }\n",
       "\n",
       "    .dataframe thead th {\n",
       "        text-align: right;\n",
       "    }\n",
       "</style>\n",
       "<table border=\"1\" class=\"dataframe\">\n",
       "  <thead>\n",
       "    <tr style=\"text-align: right;\">\n",
       "      <th></th>\n",
       "      <th>indeks_finansovogo_riska</th>\n",
       "      <th>kod_osnovnogo_okved</th>\n",
       "      <th>data_registratsii</th>\n",
       "      <th>sub_ekt_mestonahozhdenija</th>\n",
       "    </tr>\n",
       "  </thead>\n",
       "  <tbody>\n",
       "    <tr>\n",
       "      <th>0</th>\n",
       "      <td>0.082579</td>\n",
       "      <td>0.051883</td>\n",
       "      <td>0.204382</td>\n",
       "      <td>0.070432</td>\n",
       "    </tr>\n",
       "    <tr>\n",
       "      <th>1</th>\n",
       "      <td>0.084568</td>\n",
       "      <td>0.194802</td>\n",
       "      <td>0.094742</td>\n",
       "      <td>0.122519</td>\n",
       "    </tr>\n",
       "    <tr>\n",
       "      <th>2</th>\n",
       "      <td>0.212799</td>\n",
       "      <td>0.004912</td>\n",
       "      <td>0.047387</td>\n",
       "      <td>0.164280</td>\n",
       "    </tr>\n",
       "    <tr>\n",
       "      <th>3</th>\n",
       "      <td>0.010754</td>\n",
       "      <td>0.000573</td>\n",
       "      <td>0.034050</td>\n",
       "      <td>0.005135</td>\n",
       "    </tr>\n",
       "    <tr>\n",
       "      <th>4</th>\n",
       "      <td>0.035670</td>\n",
       "      <td>0.037657</td>\n",
       "      <td>0.039536</td>\n",
       "      <td>0.002973</td>\n",
       "    </tr>\n",
       "  </tbody>\n",
       "</table>\n",
       "</div>"
      ],
      "text/plain": [
       "   indeks_finansovogo_riska  kod_osnovnogo_okved  data_registratsii  \\\n",
       "0                  0.082579             0.051883           0.204382   \n",
       "1                  0.084568             0.194802           0.094742   \n",
       "2                  0.212799             0.004912           0.047387   \n",
       "3                  0.010754             0.000573           0.034050   \n",
       "4                  0.035670             0.037657           0.039536   \n",
       "\n",
       "   sub_ekt_mestonahozhdenija  \n",
       "0                   0.070432  \n",
       "1                   0.122519  \n",
       "2                   0.164280  \n",
       "3                   0.005135  \n",
       "4                   0.002973  "
      ]
     },
     "execution_count": 35,
     "metadata": {},
     "output_type": "execute_result"
    }
   ],
   "source": [
    "valid[model.context_list].head()"
   ]
  },
  {
   "cell_type": "code",
   "execution_count": 36,
   "metadata": {},
   "outputs": [
    {
     "data": {
      "text/html": [
       "<div>\n",
       "<style scoped>\n",
       "    .dataframe tbody tr th:only-of-type {\n",
       "        vertical-align: middle;\n",
       "    }\n",
       "\n",
       "    .dataframe tbody tr th {\n",
       "        vertical-align: top;\n",
       "    }\n",
       "\n",
       "    .dataframe thead th {\n",
       "        text-align: right;\n",
       "    }\n",
       "</style>\n",
       "<table border=\"1\" class=\"dataframe\">\n",
       "  <thead>\n",
       "    <tr style=\"text-align: right;\">\n",
       "      <th></th>\n",
       "      <th>indeks_finansovogo_riska</th>\n",
       "      <th>kod_osnovnogo_okved</th>\n",
       "      <th>data_registratsii</th>\n",
       "      <th>sub_ekt_mestonahozhdenija</th>\n",
       "      <th>target</th>\n",
       "      <th>best_action</th>\n",
       "      <th>rewards</th>\n",
       "    </tr>\n",
       "  </thead>\n",
       "  <tbody>\n",
       "    <tr>\n",
       "      <th>0</th>\n",
       "      <td>0.082579</td>\n",
       "      <td>0.051883</td>\n",
       "      <td>0.204382</td>\n",
       "      <td>0.070432</td>\n",
       "      <td>1</td>\n",
       "      <td>0</td>\n",
       "      <td>[0, -3]</td>\n",
       "    </tr>\n",
       "    <tr>\n",
       "      <th>1</th>\n",
       "      <td>0.084568</td>\n",
       "      <td>0.194802</td>\n",
       "      <td>0.094742</td>\n",
       "      <td>0.122519</td>\n",
       "      <td>0</td>\n",
       "      <td>1</td>\n",
       "      <td>[0, 1]</td>\n",
       "    </tr>\n",
       "    <tr>\n",
       "      <th>2</th>\n",
       "      <td>0.212799</td>\n",
       "      <td>0.004912</td>\n",
       "      <td>0.047387</td>\n",
       "      <td>0.164280</td>\n",
       "      <td>0</td>\n",
       "      <td>1</td>\n",
       "      <td>[0, 1]</td>\n",
       "    </tr>\n",
       "    <tr>\n",
       "      <th>3</th>\n",
       "      <td>0.010754</td>\n",
       "      <td>0.000573</td>\n",
       "      <td>0.034050</td>\n",
       "      <td>0.005135</td>\n",
       "      <td>0</td>\n",
       "      <td>1</td>\n",
       "      <td>[0, 1]</td>\n",
       "    </tr>\n",
       "    <tr>\n",
       "      <th>4</th>\n",
       "      <td>0.035670</td>\n",
       "      <td>0.037657</td>\n",
       "      <td>0.039536</td>\n",
       "      <td>0.002973</td>\n",
       "      <td>1</td>\n",
       "      <td>0</td>\n",
       "      <td>[0, -3]</td>\n",
       "    </tr>\n",
       "  </tbody>\n",
       "</table>\n",
       "</div>"
      ],
      "text/plain": [
       "   indeks_finansovogo_riska  kod_osnovnogo_okved  data_registratsii  \\\n",
       "0                  0.082579             0.051883           0.204382   \n",
       "1                  0.084568             0.194802           0.094742   \n",
       "2                  0.212799             0.004912           0.047387   \n",
       "3                  0.010754             0.000573           0.034050   \n",
       "4                  0.035670             0.037657           0.039536   \n",
       "\n",
       "   sub_ekt_mestonahozhdenija  target  best_action  rewards  \n",
       "0                   0.070432       1            0  [0, -3]  \n",
       "1                   0.122519       0            1   [0, 1]  \n",
       "2                   0.164280       0            1   [0, 1]  \n",
       "3                   0.005135       0            1   [0, 1]  \n",
       "4                   0.002973       1            0  [0, -3]  "
      ]
     },
     "execution_count": 36,
     "metadata": {},
     "output_type": "execute_result"
    }
   ],
   "source": [
    "valid_to_bussines = valid.copy()\n",
    "valid_to_bussines.head()"
   ]
  },
  {
   "cell_type": "code",
   "execution_count": 37,
   "metadata": {},
   "outputs": [
    {
     "data": {
      "text/html": [
       "<div>\n",
       "<style scoped>\n",
       "    .dataframe tbody tr th:only-of-type {\n",
       "        vertical-align: middle;\n",
       "    }\n",
       "\n",
       "    .dataframe tbody tr th {\n",
       "        vertical-align: top;\n",
       "    }\n",
       "\n",
       "    .dataframe thead th {\n",
       "        text-align: right;\n",
       "    }\n",
       "</style>\n",
       "<table border=\"1\" class=\"dataframe\">\n",
       "  <thead>\n",
       "    <tr style=\"text-align: right;\">\n",
       "      <th></th>\n",
       "      <th>indeks_finansovogo_riska</th>\n",
       "      <th>kod_osnovnogo_okved</th>\n",
       "      <th>data_registratsii</th>\n",
       "      <th>sub_ekt_mestonahozhdenija</th>\n",
       "      <th>target</th>\n",
       "      <th>best_action</th>\n",
       "      <th>rewards</th>\n",
       "      <th>m0_action_0</th>\n",
       "      <th>m0_action_1</th>\n",
       "      <th>best_action_m0</th>\n",
       "    </tr>\n",
       "  </thead>\n",
       "  <tbody>\n",
       "    <tr>\n",
       "      <th>0</th>\n",
       "      <td>0.082579</td>\n",
       "      <td>0.051883</td>\n",
       "      <td>0.204382</td>\n",
       "      <td>0.070432</td>\n",
       "      <td>1</td>\n",
       "      <td>0</td>\n",
       "      <td>[0, -3]</td>\n",
       "      <td>0.0</td>\n",
       "      <td>0.453214</td>\n",
       "      <td>1</td>\n",
       "    </tr>\n",
       "    <tr>\n",
       "      <th>1</th>\n",
       "      <td>0.084568</td>\n",
       "      <td>0.194802</td>\n",
       "      <td>0.094742</td>\n",
       "      <td>0.122519</td>\n",
       "      <td>0</td>\n",
       "      <td>1</td>\n",
       "      <td>[0, 1]</td>\n",
       "      <td>0.0</td>\n",
       "      <td>0.233028</td>\n",
       "      <td>1</td>\n",
       "    </tr>\n",
       "    <tr>\n",
       "      <th>2</th>\n",
       "      <td>0.212799</td>\n",
       "      <td>0.004912</td>\n",
       "      <td>0.047387</td>\n",
       "      <td>0.164280</td>\n",
       "      <td>0</td>\n",
       "      <td>1</td>\n",
       "      <td>[0, 1]</td>\n",
       "      <td>0.0</td>\n",
       "      <td>0.420464</td>\n",
       "      <td>1</td>\n",
       "    </tr>\n",
       "    <tr>\n",
       "      <th>3</th>\n",
       "      <td>0.010754</td>\n",
       "      <td>0.000573</td>\n",
       "      <td>0.034050</td>\n",
       "      <td>0.005135</td>\n",
       "      <td>0</td>\n",
       "      <td>1</td>\n",
       "      <td>[0, 1]</td>\n",
       "      <td>0.0</td>\n",
       "      <td>0.991308</td>\n",
       "      <td>1</td>\n",
       "    </tr>\n",
       "    <tr>\n",
       "      <th>4</th>\n",
       "      <td>0.035670</td>\n",
       "      <td>0.037657</td>\n",
       "      <td>0.039536</td>\n",
       "      <td>0.002973</td>\n",
       "      <td>1</td>\n",
       "      <td>0</td>\n",
       "      <td>[0, -3]</td>\n",
       "      <td>0.0</td>\n",
       "      <td>0.846831</td>\n",
       "      <td>1</td>\n",
       "    </tr>\n",
       "  </tbody>\n",
       "</table>\n",
       "</div>"
      ],
      "text/plain": [
       "   indeks_finansovogo_riska  kod_osnovnogo_okved  data_registratsii  \\\n",
       "0                  0.082579             0.051883           0.204382   \n",
       "1                  0.084568             0.194802           0.094742   \n",
       "2                  0.212799             0.004912           0.047387   \n",
       "3                  0.010754             0.000573           0.034050   \n",
       "4                  0.035670             0.037657           0.039536   \n",
       "\n",
       "   sub_ekt_mestonahozhdenija  target  best_action  rewards  m0_action_0  \\\n",
       "0                   0.070432       1            0  [0, -3]          0.0   \n",
       "1                   0.122519       0            1   [0, 1]          0.0   \n",
       "2                   0.164280       0            1   [0, 1]          0.0   \n",
       "3                   0.005135       0            1   [0, 1]          0.0   \n",
       "4                   0.002973       1            0  [0, -3]          0.0   \n",
       "\n",
       "   m0_action_1  best_action_m0  \n",
       "0     0.453214               1  \n",
       "1     0.233028               1  \n",
       "2     0.420464               1  \n",
       "3     0.991308               1  \n",
       "4     0.846831               1  "
      ]
     },
     "execution_count": 37,
     "metadata": {},
     "output_type": "execute_result"
    }
   ],
   "source": [
    "valid_to_bussines = valid.copy()\n",
    "for a, vals in enumerate(base_bandit_model.expected_values(valid_to_bussines[model.context_list])):\n",
    "    valid_to_bussines[f'm0_action_{a}'] = vals\n",
    "valid_to_bussines['best_action_m0'] = valid_to_bussines[[f'm0_action_{a}' for a in range(num_actions)]].idxmax(axis=1)  \n",
    "valid_to_bussines['best_action_m0'] = valid_to_bussines['best_action_m0'].apply(lambda x: int(x[-1]))\n",
    "valid_to_bussines.head()"
   ]
  },
  {
   "cell_type": "code",
   "execution_count": 38,
   "metadata": {},
   "outputs": [
    {
     "data": {
      "text/html": [
       "<div>\n",
       "<style scoped>\n",
       "    .dataframe tbody tr th:only-of-type {\n",
       "        vertical-align: middle;\n",
       "    }\n",
       "\n",
       "    .dataframe tbody tr th {\n",
       "        vertical-align: top;\n",
       "    }\n",
       "\n",
       "    .dataframe thead th {\n",
       "        text-align: right;\n",
       "    }\n",
       "</style>\n",
       "<table border=\"1\" class=\"dataframe\">\n",
       "  <thead>\n",
       "    <tr style=\"text-align: right;\">\n",
       "      <th></th>\n",
       "      <th>best_action</th>\n",
       "      <th>best_action_m0</th>\n",
       "    </tr>\n",
       "  </thead>\n",
       "  <tbody>\n",
       "    <tr>\n",
       "      <th>best_action</th>\n",
       "      <td>1.000000</td>\n",
       "      <td>0.223237</td>\n",
       "    </tr>\n",
       "    <tr>\n",
       "      <th>best_action_m0</th>\n",
       "      <td>0.223237</td>\n",
       "      <td>1.000000</td>\n",
       "    </tr>\n",
       "  </tbody>\n",
       "</table>\n",
       "</div>"
      ],
      "text/plain": [
       "                best_action  best_action_m0\n",
       "best_action        1.000000        0.223237\n",
       "best_action_m0     0.223237        1.000000"
      ]
     },
     "execution_count": 38,
     "metadata": {},
     "output_type": "execute_result"
    }
   ],
   "source": [
    "valid_to_bussines[['best_action','best_action_m0']].corr()"
   ]
  },
  {
   "cell_type": "code",
   "execution_count": 39,
   "metadata": {},
   "outputs": [
    {
     "name": "stdout",
     "output_type": "stream",
     "text": [
      "              precision    recall  f1-score   support\n",
      "\n",
      "           0       0.33      0.26      0.29       684\n",
      "           1       0.92      0.94      0.93      5822\n",
      "\n",
      "    accuracy                           0.87      6506\n",
      "   macro avg       0.62      0.60      0.61      6506\n",
      "weighted avg       0.85      0.87      0.86      6506\n",
      "\n"
     ]
    }
   ],
   "source": [
    "print(classification_report(valid_to_bussines.best_action,valid_to_bussines.best_action_m0))"
   ]
  },
  {
   "cell_type": "markdown",
   "metadata": {},
   "source": [
    "---\n",
    "# Полчили ответы от заказчика \n",
    "### Применим на контрольной выборке\n",
    "* Отдаем новую выборку с действиями заказчику"
   ]
  },
  {
   "cell_type": "code",
   "execution_count": 40,
   "metadata": {},
   "outputs": [
    {
     "name": "stderr",
     "output_type": "stream",
     "text": [
      "6506it [00:44, 146.80it/s]\n",
      "09/08/2024 17:19:19 - [INFO] -  fine_train - Распределение ручек после дообучения: \n",
      "Counter({1: 6205, 0: 301})\n"
     ]
    }
   ],
   "source": [
    "fine_bandit_model, fine_train_history = model.fine_train(pre_train_bandit=base_bandit_model, df=valid)"
   ]
  },
  {
   "cell_type": "code",
   "execution_count": 41,
   "metadata": {},
   "outputs": [
    {
     "data": {
      "text/html": [
       "<div>\n",
       "<style scoped>\n",
       "    .dataframe tbody tr th:only-of-type {\n",
       "        vertical-align: middle;\n",
       "    }\n",
       "\n",
       "    .dataframe tbody tr th {\n",
       "        vertical-align: top;\n",
       "    }\n",
       "\n",
       "    .dataframe thead th {\n",
       "        text-align: right;\n",
       "    }\n",
       "</style>\n",
       "<table border=\"1\" class=\"dataframe\">\n",
       "  <thead>\n",
       "    <tr style=\"text-align: right;\">\n",
       "      <th></th>\n",
       "      <th>indeks_finansovogo_riska</th>\n",
       "      <th>kod_osnovnogo_okved</th>\n",
       "      <th>data_registratsii</th>\n",
       "      <th>sub_ekt_mestonahozhdenija</th>\n",
       "      <th>target</th>\n",
       "      <th>best_action</th>\n",
       "      <th>rewards</th>\n",
       "      <th>m0_action_0</th>\n",
       "      <th>m0_action_1</th>\n",
       "      <th>best_action_m0</th>\n",
       "      <th>m1_action_0</th>\n",
       "      <th>m1_action_1</th>\n",
       "      <th>best_action_m1</th>\n",
       "    </tr>\n",
       "  </thead>\n",
       "  <tbody>\n",
       "    <tr>\n",
       "      <th>0</th>\n",
       "      <td>0.082579</td>\n",
       "      <td>0.051883</td>\n",
       "      <td>0.204382</td>\n",
       "      <td>0.070432</td>\n",
       "      <td>1</td>\n",
       "      <td>0</td>\n",
       "      <td>[0, -3]</td>\n",
       "      <td>0.0</td>\n",
       "      <td>0.453214</td>\n",
       "      <td>1</td>\n",
       "      <td>-0.493049</td>\n",
       "      <td>0.539900</td>\n",
       "      <td>1</td>\n",
       "    </tr>\n",
       "    <tr>\n",
       "      <th>1</th>\n",
       "      <td>0.084568</td>\n",
       "      <td>0.194802</td>\n",
       "      <td>0.094742</td>\n",
       "      <td>0.122519</td>\n",
       "      <td>0</td>\n",
       "      <td>1</td>\n",
       "      <td>[0, 1]</td>\n",
       "      <td>0.0</td>\n",
       "      <td>0.233028</td>\n",
       "      <td>1</td>\n",
       "      <td>-0.346234</td>\n",
       "      <td>0.365271</td>\n",
       "      <td>1</td>\n",
       "    </tr>\n",
       "    <tr>\n",
       "      <th>2</th>\n",
       "      <td>0.212799</td>\n",
       "      <td>0.004912</td>\n",
       "      <td>0.047387</td>\n",
       "      <td>0.164280</td>\n",
       "      <td>0</td>\n",
       "      <td>1</td>\n",
       "      <td>[0, 1]</td>\n",
       "      <td>0.0</td>\n",
       "      <td>0.420464</td>\n",
       "      <td>1</td>\n",
       "      <td>-0.284881</td>\n",
       "      <td>0.526634</td>\n",
       "      <td>1</td>\n",
       "    </tr>\n",
       "    <tr>\n",
       "      <th>3</th>\n",
       "      <td>0.010754</td>\n",
       "      <td>0.000573</td>\n",
       "      <td>0.034050</td>\n",
       "      <td>0.005135</td>\n",
       "      <td>0</td>\n",
       "      <td>1</td>\n",
       "      <td>[0, 1]</td>\n",
       "      <td>0.0</td>\n",
       "      <td>0.991308</td>\n",
       "      <td>1</td>\n",
       "      <td>-0.472598</td>\n",
       "      <td>0.985925</td>\n",
       "      <td>1</td>\n",
       "    </tr>\n",
       "    <tr>\n",
       "      <th>4</th>\n",
       "      <td>0.035670</td>\n",
       "      <td>0.037657</td>\n",
       "      <td>0.039536</td>\n",
       "      <td>0.002973</td>\n",
       "      <td>1</td>\n",
       "      <td>0</td>\n",
       "      <td>[0, -3]</td>\n",
       "      <td>0.0</td>\n",
       "      <td>0.846831</td>\n",
       "      <td>1</td>\n",
       "      <td>-0.421046</td>\n",
       "      <td>0.871272</td>\n",
       "      <td>1</td>\n",
       "    </tr>\n",
       "  </tbody>\n",
       "</table>\n",
       "</div>"
      ],
      "text/plain": [
       "   indeks_finansovogo_riska  kod_osnovnogo_okved  data_registratsii  \\\n",
       "0                  0.082579             0.051883           0.204382   \n",
       "1                  0.084568             0.194802           0.094742   \n",
       "2                  0.212799             0.004912           0.047387   \n",
       "3                  0.010754             0.000573           0.034050   \n",
       "4                  0.035670             0.037657           0.039536   \n",
       "\n",
       "   sub_ekt_mestonahozhdenija  target  best_action  rewards  m0_action_0  \\\n",
       "0                   0.070432       1            0  [0, -3]          0.0   \n",
       "1                   0.122519       0            1   [0, 1]          0.0   \n",
       "2                   0.164280       0            1   [0, 1]          0.0   \n",
       "3                   0.005135       0            1   [0, 1]          0.0   \n",
       "4                   0.002973       1            0  [0, -3]          0.0   \n",
       "\n",
       "   m0_action_1  best_action_m0  m1_action_0  m1_action_1  best_action_m1  \n",
       "0     0.453214               1    -0.493049     0.539900               1  \n",
       "1     0.233028               1    -0.346234     0.365271               1  \n",
       "2     0.420464               1    -0.284881     0.526634               1  \n",
       "3     0.991308               1    -0.472598     0.985925               1  \n",
       "4     0.846831               1    -0.421046     0.871272               1  "
      ]
     },
     "execution_count": 41,
     "metadata": {},
     "output_type": "execute_result"
    }
   ],
   "source": [
    "for a, vals in enumerate(fine_bandit_model.expected_values(valid_to_bussines[model.context_list])):\n",
    "    valid_to_bussines[f'm1_action_{a}'] = vals\n",
    "valid_to_bussines['best_action_m1'] = valid_to_bussines[[f'm1_action_{a}' for a in range(num_actions)]].idxmax(axis=1)  \n",
    "valid_to_bussines['best_action_m1'] = valid_to_bussines['best_action_m1'].apply(lambda x: int(x[-1]))\n",
    "valid_to_bussines.head()"
   ]
  },
  {
   "cell_type": "code",
   "execution_count": 42,
   "metadata": {},
   "outputs": [
    {
     "data": {
      "text/plain": [
       "1    5822\n",
       "0     684\n",
       "Name: best_action, dtype: int64"
      ]
     },
     "execution_count": 42,
     "metadata": {},
     "output_type": "execute_result"
    }
   ],
   "source": [
    "valid_to_bussines.best_action.value_counts()"
   ]
  },
  {
   "cell_type": "code",
   "execution_count": 43,
   "metadata": {},
   "outputs": [
    {
     "data": {
      "text/plain": [
       "1    5974\n",
       "0     532\n",
       "Name: best_action_m0, dtype: int64"
      ]
     },
     "execution_count": 43,
     "metadata": {},
     "output_type": "execute_result"
    }
   ],
   "source": [
    "valid_to_bussines.best_action_m0.value_counts()"
   ]
  },
  {
   "cell_type": "code",
   "execution_count": 44,
   "metadata": {},
   "outputs": [
    {
     "data": {
      "text/plain": [
       "1    6326\n",
       "0     180\n",
       "Name: best_action_m1, dtype: int64"
      ]
     },
     "execution_count": 44,
     "metadata": {},
     "output_type": "execute_result"
    }
   ],
   "source": [
    "valid_to_bussines.best_action_m1.value_counts()"
   ]
  },
  {
   "cell_type": "code",
   "execution_count": 45,
   "metadata": {},
   "outputs": [
    {
     "data": {
      "text/html": [
       "<div>\n",
       "<style scoped>\n",
       "    .dataframe tbody tr th:only-of-type {\n",
       "        vertical-align: middle;\n",
       "    }\n",
       "\n",
       "    .dataframe tbody tr th {\n",
       "        vertical-align: top;\n",
       "    }\n",
       "\n",
       "    .dataframe thead th {\n",
       "        text-align: right;\n",
       "    }\n",
       "</style>\n",
       "<table border=\"1\" class=\"dataframe\">\n",
       "  <thead>\n",
       "    <tr style=\"text-align: right;\">\n",
       "      <th></th>\n",
       "      <th>best_action</th>\n",
       "      <th>best_action_m0</th>\n",
       "      <th>best_action_m1</th>\n",
       "    </tr>\n",
       "  </thead>\n",
       "  <tbody>\n",
       "    <tr>\n",
       "      <th>best_action</th>\n",
       "      <td>1.000000</td>\n",
       "      <td>0.223237</td>\n",
       "      <td>0.156051</td>\n",
       "    </tr>\n",
       "    <tr>\n",
       "      <th>best_action_m0</th>\n",
       "      <td>0.223237</td>\n",
       "      <td>1.000000</td>\n",
       "      <td>0.565260</td>\n",
       "    </tr>\n",
       "    <tr>\n",
       "      <th>best_action_m1</th>\n",
       "      <td>0.156051</td>\n",
       "      <td>0.565260</td>\n",
       "      <td>1.000000</td>\n",
       "    </tr>\n",
       "  </tbody>\n",
       "</table>\n",
       "</div>"
      ],
      "text/plain": [
       "                best_action  best_action_m0  best_action_m1\n",
       "best_action        1.000000        0.223237        0.156051\n",
       "best_action_m0     0.223237        1.000000        0.565260\n",
       "best_action_m1     0.156051        0.565260        1.000000"
      ]
     },
     "execution_count": 45,
     "metadata": {},
     "output_type": "execute_result"
    }
   ],
   "source": [
    "valid_to_bussines[['best_action','best_action_m0','best_action_m1']].corr()"
   ]
  },
  {
   "cell_type": "code",
   "execution_count": 46,
   "metadata": {},
   "outputs": [
    {
     "name": "stdout",
     "output_type": "stream",
     "text": [
      "              precision    recall  f1-score   support\n",
      "\n",
      "           0       0.39      0.10      0.16       684\n",
      "           1       0.90      0.98      0.94      5822\n",
      "\n",
      "    accuracy                           0.89      6506\n",
      "   macro avg       0.65      0.54      0.55      6506\n",
      "weighted avg       0.85      0.89      0.86      6506\n",
      "\n"
     ]
    }
   ],
   "source": [
    "print(classification_report(valid_to_bussines.best_action,valid_to_bussines.best_action_m1))"
   ]
  },
  {
   "cell_type": "code",
   "execution_count": 47,
   "metadata": {},
   "outputs": [
    {
     "data": {
      "image/png": "[encoded data removed]",
      "text/plain": [
       "<Figure size 1500x400 with 1 Axes>"
      ]
     },
     "metadata": {},
     "output_type": "display_data"
    }
   ],
   "source": [
    "make_plots(fine_train_history)"
   ]
  },
  {
   "cell_type": "code",
   "execution_count": null,
   "metadata": {},
   "outputs": [],
   "source": []
  }
 ],
 "metadata": {
  "kernelspec": {
   "display_name": "Python 3 (ipykernel)",
   "language": "python",
   "name": "python3"
  },
  "language_info": {
   "codemirror_mode": {
    "name": "ipython",
    "version": 3
   },
   "file_extension": ".py",
   "mimetype": "text/x-python",
   "name": "python",
   "nbconvert_exporter": "python",
   "pygments_lexer": "ipython3",
   "version": "3.7.16"
  },
  "toc": {
   "base_numbering": 1,
   "nav_menu": {},
   "number_sections": false,
   "sideBar": false,
   "skip_h1_title": false,
   "title_cell": "Table of Contents",
   "title_sidebar": "Contents",
   "toc_cell": false,
   "toc_position": {},
   "toc_section_display": false,
   "toc_window_display": false
  }
 },
 "nbformat": 4,
 "nbformat_minor": 4
}
